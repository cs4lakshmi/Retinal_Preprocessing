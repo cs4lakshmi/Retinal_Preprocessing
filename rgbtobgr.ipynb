# import libraries + dataset
from google.colab import drive
import matplotlib.pyplot as plotter_lib
import numpy as np
import PIL as image_lib
import tensorflow as tflow
from tensorflow.keras import backend as K
from tensorflow.keras.layers import Flatten
from tensorflow.keras.layers import Dense
from tensorflow.keras.models import Sequential
from tensorflow.keras.optimizers import Adam
import pathlib
import os
import glob
import cv2

drive.mount("/content/drive/")
data_directory = "/content/drive/MyDrive/Retinal_1120/"

# apply glob module to retrieve files/pathnames
DME_path = os.path.join(data_directory, 'DME', "*")
DME_path = glob.glob(DME_path)

DRUSEN_path = os.path.join(data_directory, 'DRUSEN', "*")
DRUSEN_path = glob.glob(DRUSEN_path)

NORMAL_path = os.path.join(data_directory, 'NORMAL', "*")
NORMAL_path = glob.glob(NORMAL_path)

# dataset splits into training and validation
img_height, img_width = 180, 180
batch_size = 32
train_ds = tflow.keras.preprocessing.image_dataset_from_directory(
    data_directory,
    validation_split=0.2, #20% validation and 80% training
    subset="training",
    seed=123, label_mode='categorical',
    image_size=(img_height, img_width),
    batch_size=batch_size)

class_names = train_ds.class_names
print(class_names)

def rgb_to_bgr(image, label):
    return tflow.reverse(image, axis=[-1]), label

train_ds = train_ds.map(rgb_to_bgr)

# create validation subset
validation_ds = tflow.keras.preprocessing.image_dataset_from_directory(
    data_directory,
    validation_split=0.2,
    subset="validation",
    seed=123,
    label_mode='categorical',
    image_size=(img_height, img_width),
    batch_size=batch_size)

validation_ds = validation_ds.map(rgb_to_bgr)

# visualize six random images from the dataset
import matplotlib.pyplot as plotter_lib
plotter_lib.figure(figsize=(10, 10))
epochs=50
for images, labels in train_ds.take(1):
  for var in range(6):
    ax = plotter_lib.subplot(3, 3, var + 1)
    plotter_lib.imshow(images[var].numpy().astype("uint8"))
    plotter_lib.axis("off")

# import the ResNet-50 model from the keras library
resnet_model = Sequential()

pretrained_model= tflow.keras.applications.ResNet50(
    include_top=False,
    input_shape=(180,180,3),
    pooling='avg',
    classes=4,
    weights='imagenet')
for each_layer in pretrained_model.layers:
        each_layer.trainable=False #set to true
resnet_model.add(pretrained_model)

# add a fully connected output layer to the model (where the learning can happen)
resnet_model.add(Flatten())
resnet_model.add(Dense(512, activation='relu'))
resnet_model.add(Dense(4, activation='softmax')) # softmax function creates four neurons to classify four retinal disease classes

def false_positives(y_true, y_pred):
    y_pred_binary = K.round(y_pred)
    false_positives = K.sum(K.cast(K.greater(y_pred_binary, y_true), 'float'))
    return false_positives

def false_negatives(y_true, y_pred):
    y_pred_binary = K.round(y_pred)
    false_negatives = K.sum(K.cast(K.greater(y_true, y_pred_binary), 'float'))
    return false_negatives

def true_negatives(y_true, y_pred):
    y_pred_binary = K.round(y_pred)
    true_negatives = K.sum(K.cast(K.equal(y_true, 0) & K.equal(y_pred_binary, 0), 'float'))
    false_positives = K.sum(K.cast(K.equal(y_true, 0) & K.equal(y_pred_binary, 1), 'float'))
    spec = true_negatives / (true_negatives + false_positives + K.epsilon())
    return spec

# train model on training dataset
resnet_model.compile(optimizer=Adam(lr=0.001),loss='categorical_crossentropy',metrics=['accuracy', false_positives, false_negatives, true_negatives])
history = resnet_model.fit(train_ds, validation_data=validation_ds, epochs=epochs)

# evaluate ResNet-50 model after training

#accuracy
plotter_lib.figure(figsize=(8, 8))
epochs_range= range(epochs)
plotter_lib.plot(epochs_range, history.history['accuracy'], label="Training Accuracy")
plotter_lib.plot(epochs_range, history.history['val_accuracy'], label="Validation Accuracy")
plotter_lib.axis(ymin=0.4,ymax=1)
plotter_lib.grid()
plotter_lib.title('Model Accuracy')
plotter_lib.ylabel('Accuracy')
plotter_lib.xlabel('Epochs')
plotter_lib.legend(['train', 'validation'])
plotter_lib.savefig('output-plot.png')

## Accuracy, false positives, and false negatives in a graph.
plotter_lib.figure(figsize=(18, 6))

# Plot Training Accuracy
plotter_lib.subplot(1, 4, 1)
plotter_lib.plot(history.history['accuracy'], label='Training Accuracy')
plotter_lib.title('Training Accuracy')
plotter_lib.xlabel('Epoch')
plotter_lib.ylabel('Accuracy')
plotter_lib.legend()

# Plot False Negatives
plotter_lib.subplot(1, 4, 2)
plotter_lib.plot(history.history['false_negatives'], label='False Negatives')
plotter_lib.title('False Negatives')
plotter_lib.xlabel('Epoch')
plotter_lib.ylabel('False Negatives')
plotter_lib.legend()

# Plot False Positives
plotter_lib.subplot(1, 4, 3)
plotter_lib.plot(history.history['false_positives'], label='False Positives')
plotter_lib.title('False Positives')
plotter_lib.xlabel('Epoch')
plotter_lib.ylabel('False Positives')
plotter_lib.legend()

plotter_lib.subplot(1, 4, 4)
plotter_lib.plot(history.history['true_negatives'], label='True Negatives')
plotter_lib.title('True Negatives')
plotter_lib.xlabel('Epoch')
plotter_lib.ylabel('True Negatives')
plotter_lib.legend()

plotter_lib.tight_layout()
plotter_lib.show()
